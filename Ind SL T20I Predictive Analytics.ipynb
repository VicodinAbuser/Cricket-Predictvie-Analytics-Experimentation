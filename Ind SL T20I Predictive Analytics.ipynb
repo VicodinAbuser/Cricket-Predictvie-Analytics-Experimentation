{
 "cells": [
  {
   "cell_type": "code",
   "execution_count": 1,
   "id": "personal-camel",
   "metadata": {},
   "outputs": [],
   "source": [
    "import pandas as pd\n",
    "import numpy as np\n",
    "import matplotlib.pyplot as plt\n",
    "import seaborn as sns\n",
    "import glob as glob\n",
    "%matplotlib inline"
   ]
  },
  {
   "cell_type": "code",
   "execution_count": 2,
   "id": "ordered-client",
   "metadata": {},
   "outputs": [],
   "source": [
    "pd.set_option('display.max_columns', None)"
   ]
  },
  {
   "cell_type": "code",
   "execution_count": 9,
   "id": "formed-alexander",
   "metadata": {},
   "outputs": [],
   "source": [
    "# ind_v_sl_hth_last_5_years = pd.read_csv('Ind v SL HTH Last 5 Years in T20Is.csv')\n",
    "# ind_last_1_year = pd.read_csv('Ind Last 1 Year in T20Is.csv')\n",
    "# sl_last_1_year = pd.read_csv('SL Last 1 Year in T20Is.csv')\n",
    "# ind_v_sl_hth_last_5_years.drop(['Unnamed: 0', 'Unnamed: 7', 'Unnamed: 11'], axis=1, inplace=True)\n",
    "# ind_last_1_year.drop(['Unnamed: 0', 'Unnamed: 7', 'Unnamed: 11'], axis=1, inplace=True)\n",
    "# sl_last_1_year.drop(['Unnamed: 0', 'Unnamed: 7', 'Unnamed: 11'], axis=1, inplace=True)\n",
    "# pd.DataFrame({\"India v SL Matches Played\": 13, \"India v SL Matches Won\": 10, \"India v SL Matches Lost\": 2, \"India v SL Matches Tied\": 0, \"India v SL Matches N/R\": 1, \"India Last 1 year Matches Played\": 16, \"India Last 1 Year Matches Won\": 10, \"India Last 1 Year Matches Lost\": 3, \"India Last 1 Year Matches Tied\": 2, \"India Last 1 Year Matches N/R\": 1, \"SL Last 1 Year Matches Played\": 11, \"SL Last 1 Year Matches Won\": 1, \"SL Last 1 Year Matches Lost\": 9, \"SL Last 1 Year Matches Tied\": 0, \"SL Last 1 Year Matches N/R\": 1}, index=[0])"
   ]
  },
  {
   "cell_type": "code",
   "execution_count": 19,
   "id": "organic-triumph",
   "metadata": {},
   "outputs": [],
   "source": [
    "all_t20is_ever = pd.read_csv(\"CSV Files/All T20Is ever.csv\")"
   ]
  },
  {
   "cell_type": "code",
   "execution_count": 20,
   "id": "promising-triangle",
   "metadata": {},
   "outputs": [],
   "source": [
    "all_t20is_ever.drop(['Unnamed: 0', 'Unnamed: 7', 'Unnamed: 11'], axis=1, inplace=True)"
   ]
  },
  {
   "cell_type": "code",
   "execution_count": 21,
   "id": "seeing-retro",
   "metadata": {},
   "outputs": [],
   "source": [
    "all_t20is_ever = all_t20is_ever.iloc[::2]"
   ]
  },
  {
   "cell_type": "code",
   "execution_count": 30,
   "id": "colonial-puppy",
   "metadata": {},
   "outputs": [
    {
     "data": {
      "text/plain": [
       "won     1147\n",
       "aban      33\n",
       "n/r       31\n",
       "canc      23\n",
       "tied      20\n",
       "Name: Result, dtype: int64"
      ]
     },
     "execution_count": 30,
     "metadata": {},
     "output_type": "execute_result"
    }
   ],
   "source": [
    "all_t20is_ever.Result.value_counts()"
   ]
  },
  {
   "cell_type": "code",
   "execution_count": 29,
   "id": "organizational-athletics",
   "metadata": {},
   "outputs": [],
   "source": [
    "all_t20is_ever = all_t20is_ever[(all_t20is_ever['Result']!='aban') | (all_t20is_ever['Result']!='canc')]"
   ]
  },
  {
   "cell_type": "code",
   "execution_count": 31,
   "id": "attempted-tissue",
   "metadata": {},
   "outputs": [
    {
     "data": {
      "text/plain": [
       "1254"
      ]
     },
     "execution_count": 31,
     "metadata": {},
     "output_type": "execute_result"
    }
   ],
   "source": [
    "len(all_t20is_ever)"
   ]
  },
  {
   "cell_type": "code",
   "execution_count": null,
   "id": "rental-camcorder",
   "metadata": {},
   "outputs": [],
   "source": []
  }
 ],
 "metadata": {
  "kernelspec": {
   "display_name": "Python 3",
   "language": "python",
   "name": "python3"
  },
  "language_info": {
   "codemirror_mode": {
    "name": "ipython",
    "version": 3
   },
   "file_extension": ".py",
   "mimetype": "text/x-python",
   "name": "python",
   "nbconvert_exporter": "python",
   "pygments_lexer": "ipython3",
   "version": "3.8.8"
  }
 },
 "nbformat": 4,
 "nbformat_minor": 5
}
