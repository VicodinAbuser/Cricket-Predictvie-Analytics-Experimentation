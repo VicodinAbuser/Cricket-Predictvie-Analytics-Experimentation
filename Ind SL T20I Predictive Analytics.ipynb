{
 "cells": [
  {
   "cell_type": "code",
   "execution_count": 36,
   "id": "personal-camel",
   "metadata": {},
   "outputs": [],
   "source": [
    "import pandas as pd\n",
    "import numpy as np\n",
    "import matplotlib.pyplot as plt\n",
    "import seaborn as sns\n",
    "import glob as glob\n",
    "%matplotlib inline"
   ]
  },
  {
   "cell_type": "code",
   "execution_count": 37,
   "id": "ordered-client",
   "metadata": {},
   "outputs": [],
   "source": [
    "pd.set_option('display.max_columns', None)"
   ]
  },
  {
   "cell_type": "code",
   "execution_count": 38,
   "id": "formed-alexander",
   "metadata": {},
   "outputs": [],
   "source": [
    "# ind_v_sl_hth_last_5_years = pd.read_csv('Ind v SL HTH Last 5 Years in T20Is.csv')\n",
    "# ind_last_1_year = pd.read_csv('Ind Last 1 Year in T20Is.csv')\n",
    "# sl_last_1_year = pd.read_csv('SL Last 1 Year in T20Is.csv')\n",
    "# ind_v_sl_hth_last_5_years.drop(['Unnamed: 0', 'Unnamed: 7', 'Unnamed: 11'], axis=1, inplace=True)\n",
    "# ind_last_1_year.drop(['Unnamed: 0', 'Unnamed: 7', 'Unnamed: 11'], axis=1, inplace=True)\n",
    "# sl_last_1_year.drop(['Unnamed: 0', 'Unnamed: 7', 'Unnamed: 11'], axis=1, inplace=True)\n",
    "# pd.DataFrame({\"India v SL Matches Played\": 13, \"India v SL Matches Won\": 10, \"India v SL Matches Lost\": 2, \"India v SL Matches Tied\": 0, \"India v SL Matches N/R\": 1, \"India Last 1 year Matches Played\": 16, \"India Last 1 Year Matches Won\": 10, \"India Last 1 Year Matches Lost\": 3, \"India Last 1 Year Matches Tied\": 2, \"India Last 1 Year Matches N/R\": 1, \"SL Last 1 Year Matches Played\": 11, \"SL Last 1 Year Matches Won\": 1, \"SL Last 1 Year Matches Lost\": 9, \"SL Last 1 Year Matches Tied\": 0, \"SL Last 1 Year Matches N/R\": 1}, index=[0])"
   ]
  },
  {
   "cell_type": "code",
   "execution_count": 53,
   "id": "organic-triumph",
   "metadata": {},
   "outputs": [],
   "source": [
    "all_t20is_ever = pd.read_csv(\"CSV Files/All T20Is ever.csv\")"
   ]
  },
  {
   "cell_type": "code",
   "execution_count": null,
   "id": "stretch-lodge",
   "metadata": {},
   "outputs": [],
   "source": []
  },
  {
   "cell_type": "code",
   "execution_count": 79,
   "id": "informational-frank",
   "metadata": {},
   "outputs": [
    {
     "data": {
      "text/html": [
       "<div>\n",
       "<style scoped>\n",
       "    .dataframe tbody tr th:only-of-type {\n",
       "        vertical-align: middle;\n",
       "    }\n",
       "\n",
       "    .dataframe tbody tr th {\n",
       "        vertical-align: top;\n",
       "    }\n",
       "\n",
       "    .dataframe thead th {\n",
       "        text-align: right;\n",
       "    }\n",
       "</style>\n",
       "<table border=\"1\" class=\"dataframe\">\n",
       "  <thead>\n",
       "    <tr style=\"text-align: right;\">\n",
       "      <th></th>\n",
       "      <th>Team</th>\n",
       "      <th>Result</th>\n",
       "      <th>Margin</th>\n",
       "      <th>BR</th>\n",
       "      <th>Toss</th>\n",
       "      <th>Bat</th>\n",
       "      <th>Opposition</th>\n",
       "      <th>Ground</th>\n",
       "      <th>Start Date</th>\n",
       "    </tr>\n",
       "  </thead>\n",
       "  <tbody>\n",
       "    <tr>\n",
       "      <th>0</th>\n",
       "      <td>Australia</td>\n",
       "      <td>won</td>\n",
       "      <td>44 runs</td>\n",
       "      <td>NaN</td>\n",
       "      <td>won</td>\n",
       "      <td>1st</td>\n",
       "      <td>v New Zealand</td>\n",
       "      <td>Auckland</td>\n",
       "      <td>17 Feb 2005</td>\n",
       "    </tr>\n",
       "    <tr>\n",
       "      <th>1</th>\n",
       "      <td>New Zealand</td>\n",
       "      <td>lost</td>\n",
       "      <td>44 runs</td>\n",
       "      <td>NaN</td>\n",
       "      <td>lost</td>\n",
       "      <td>2nd</td>\n",
       "      <td>v Australia</td>\n",
       "      <td>Auckland</td>\n",
       "      <td>17 Feb 2005</td>\n",
       "    </tr>\n",
       "    <tr>\n",
       "      <th>2</th>\n",
       "      <td>England</td>\n",
       "      <td>won</td>\n",
       "      <td>100 runs</td>\n",
       "      <td>NaN</td>\n",
       "      <td>won</td>\n",
       "      <td>1st</td>\n",
       "      <td>v Australia</td>\n",
       "      <td>Southampton</td>\n",
       "      <td>13 Jun 2005</td>\n",
       "    </tr>\n",
       "    <tr>\n",
       "      <th>3</th>\n",
       "      <td>Australia</td>\n",
       "      <td>lost</td>\n",
       "      <td>100 runs</td>\n",
       "      <td>NaN</td>\n",
       "      <td>lost</td>\n",
       "      <td>2nd</td>\n",
       "      <td>v England</td>\n",
       "      <td>Southampton</td>\n",
       "      <td>13 Jun 2005</td>\n",
       "    </tr>\n",
       "    <tr>\n",
       "      <th>4</th>\n",
       "      <td>New Zealand</td>\n",
       "      <td>won</td>\n",
       "      <td>5 wickets</td>\n",
       "      <td>12.0</td>\n",
       "      <td>won</td>\n",
       "      <td>2nd</td>\n",
       "      <td>v South Africa</td>\n",
       "      <td>Johannesburg</td>\n",
       "      <td>21 Oct 2005</td>\n",
       "    </tr>\n",
       "  </tbody>\n",
       "</table>\n",
       "</div>"
      ],
      "text/plain": [
       "          Team Result     Margin    BR  Toss  Bat      Opposition  \\\n",
       "0    Australia    won    44 runs   NaN   won  1st   v New Zealand   \n",
       "1  New Zealand   lost    44 runs   NaN  lost  2nd     v Australia   \n",
       "2      England    won   100 runs   NaN   won  1st     v Australia   \n",
       "3    Australia   lost   100 runs   NaN  lost  2nd       v England   \n",
       "4  New Zealand    won  5 wickets  12.0   won  2nd  v South Africa   \n",
       "\n",
       "         Ground   Start Date  \n",
       "0      Auckland  17 Feb 2005  \n",
       "1      Auckland  17 Feb 2005  \n",
       "2   Southampton  13 Jun 2005  \n",
       "3   Southampton  13 Jun 2005  \n",
       "4  Johannesburg  21 Oct 2005  "
      ]
     },
     "execution_count": 79,
     "metadata": {},
     "output_type": "execute_result"
    }
   ],
   "source": [
    "all_t20is_ever.head()"
   ]
  },
  {
   "cell_type": "code",
   "execution_count": 55,
   "id": "promising-triangle",
   "metadata": {},
   "outputs": [],
   "source": [
    "all_t20is_ever.drop(['Unnamed: 0', 'Unnamed: 7', 'Unnamed: 11'], axis=1, inplace=True)"
   ]
  },
  {
   "cell_type": "code",
   "execution_count": 61,
   "id": "typical-savage",
   "metadata": {},
   "outputs": [
    {
     "data": {
      "text/plain": [
       "array(['1st', '2nd', '-'], dtype=object)"
      ]
     },
     "execution_count": 61,
     "metadata": {},
     "output_type": "execute_result"
    }
   ],
   "source": [
    "all_t20is_ever_refined.Bat.unique()"
   ]
  },
  {
   "cell_type": "code",
   "execution_count": 76,
   "id": "found-sharp",
   "metadata": {},
   "outputs": [],
   "source": [
    "df = all_t20is_ever[(all_t20is_ever['Result']=='won') | (all_t20is_ever['Result']=='lost') | (all_t20is_ever['Result']=='tied')]"
   ]
  },
  {
   "cell_type": "code",
   "execution_count": 77,
   "id": "careful-connection",
   "metadata": {},
   "outputs": [
    {
     "data": {
      "text/plain": [
       "array(['won', 'lost', 'tied'], dtype=object)"
      ]
     },
     "execution_count": 77,
     "metadata": {},
     "output_type": "execute_result"
    }
   ],
   "source": [
    "df.Result.unique()"
   ]
  },
  {
   "cell_type": "code",
   "execution_count": 78,
   "id": "collected-modern",
   "metadata": {},
   "outputs": [
    {
     "data": {
      "text/plain": [
       "won     1147\n",
       "lost    1147\n",
       "tied      40\n",
       "Name: Result, dtype: int64"
      ]
     },
     "execution_count": 78,
     "metadata": {},
     "output_type": "execute_result"
    }
   ],
   "source": [
    "df.Result.value_counts()"
   ]
  },
  {
   "cell_type": "code",
   "execution_count": 91,
   "id": "southern-masters",
   "metadata": {},
   "outputs": [],
   "source": [
    "\n",
    "df = df[df['Bat']=='1st']"
   ]
  },
  {
   "cell_type": "code",
   "execution_count": 94,
   "id": "literary-coordination",
   "metadata": {},
   "outputs": [],
   "source": [
    "df.reset_index(inplace=True, drop=True)"
   ]
  },
  {
   "cell_type": "code",
   "execution_count": 96,
   "id": "detected-image",
   "metadata": {},
   "outputs": [],
   "source": [
    "df.drop(['index'], axis=1, inplace=True)"
   ]
  },
  {
   "cell_type": "code",
   "execution_count": 115,
   "id": "cognitive-platform",
   "metadata": {},
   "outputs": [
    {
     "data": {
      "text/plain": [
       "['Year', 'Ground', 'Batting Team', 'Fielding Team', 'Toss', 'Result']"
      ]
     },
     "execution_count": 115,
     "metadata": {},
     "output_type": "execute_result"
    }
   ],
   "source": [
    "['Year', 'Ground', 'Batting Team', 'Fielding Team', 'Toss', 'Result']"
   ]
  },
  {
   "cell_type": "code",
   "execution_count": 119,
   "id": "surrounded-elements",
   "metadata": {},
   "outputs": [
    {
     "data": {
      "text/html": [
       "<div>\n",
       "<style scoped>\n",
       "    .dataframe tbody tr th:only-of-type {\n",
       "        vertical-align: middle;\n",
       "    }\n",
       "\n",
       "    .dataframe tbody tr th {\n",
       "        vertical-align: top;\n",
       "    }\n",
       "\n",
       "    .dataframe thead th {\n",
       "        text-align: right;\n",
       "    }\n",
       "</style>\n",
       "<table border=\"1\" class=\"dataframe\">\n",
       "  <thead>\n",
       "    <tr style=\"text-align: right;\">\n",
       "      <th></th>\n",
       "      <th>Team</th>\n",
       "      <th>Result</th>\n",
       "      <th>Margin</th>\n",
       "      <th>BR</th>\n",
       "      <th>Toss</th>\n",
       "      <th>Bat</th>\n",
       "      <th>Opposition</th>\n",
       "      <th>Ground</th>\n",
       "      <th>Start Date</th>\n",
       "      <th>Result_Binary</th>\n",
       "      <th>Year</th>\n",
       "    </tr>\n",
       "  </thead>\n",
       "  <tbody>\n",
       "    <tr>\n",
       "      <th>0</th>\n",
       "      <td>Australia</td>\n",
       "      <td>won</td>\n",
       "      <td>44 runs</td>\n",
       "      <td>NaN</td>\n",
       "      <td>won</td>\n",
       "      <td>1st</td>\n",
       "      <td>v New Zealand</td>\n",
       "      <td>Auckland</td>\n",
       "      <td>2005-02-17</td>\n",
       "      <td>1</td>\n",
       "      <td>2005</td>\n",
       "    </tr>\n",
       "    <tr>\n",
       "      <th>1</th>\n",
       "      <td>England</td>\n",
       "      <td>won</td>\n",
       "      <td>100 runs</td>\n",
       "      <td>NaN</td>\n",
       "      <td>won</td>\n",
       "      <td>1st</td>\n",
       "      <td>v Australia</td>\n",
       "      <td>Southampton</td>\n",
       "      <td>2005-06-13</td>\n",
       "      <td>1</td>\n",
       "      <td>2005</td>\n",
       "    </tr>\n",
       "    <tr>\n",
       "      <th>2</th>\n",
       "      <td>South Africa</td>\n",
       "      <td>lost</td>\n",
       "      <td>5 wickets</td>\n",
       "      <td>12.0</td>\n",
       "      <td>lost</td>\n",
       "      <td>1st</td>\n",
       "      <td>v New Zealand</td>\n",
       "      <td>Johannesburg</td>\n",
       "      <td>2005-10-21</td>\n",
       "      <td>0</td>\n",
       "      <td>2005</td>\n",
       "    </tr>\n",
       "    <tr>\n",
       "      <th>3</th>\n",
       "      <td>Australia</td>\n",
       "      <td>won</td>\n",
       "      <td>95 runs</td>\n",
       "      <td>NaN</td>\n",
       "      <td>won</td>\n",
       "      <td>1st</td>\n",
       "      <td>v South Africa</td>\n",
       "      <td>Brisbane</td>\n",
       "      <td>2006-01-09</td>\n",
       "      <td>1</td>\n",
       "      <td>2006</td>\n",
       "    </tr>\n",
       "    <tr>\n",
       "      <th>4</th>\n",
       "      <td>West Indies</td>\n",
       "      <td>tied</td>\n",
       "      <td>-</td>\n",
       "      <td>NaN</td>\n",
       "      <td>lost</td>\n",
       "      <td>1st</td>\n",
       "      <td>v New Zealand</td>\n",
       "      <td>Auckland</td>\n",
       "      <td>2006-02-16</td>\n",
       "      <td>0</td>\n",
       "      <td>2006</td>\n",
       "    </tr>\n",
       "    <tr>\n",
       "      <th>...</th>\n",
       "      <td>...</td>\n",
       "      <td>...</td>\n",
       "      <td>...</td>\n",
       "      <td>...</td>\n",
       "      <td>...</td>\n",
       "      <td>...</td>\n",
       "      <td>...</td>\n",
       "      <td>...</td>\n",
       "      <td>...</td>\n",
       "      <td>...</td>\n",
       "      <td>...</td>\n",
       "    </tr>\n",
       "    <tr>\n",
       "      <th>1162</th>\n",
       "      <td>South Africa</td>\n",
       "      <td>won</td>\n",
       "      <td>33 runs</td>\n",
       "      <td>NaN</td>\n",
       "      <td>lost</td>\n",
       "      <td>1st</td>\n",
       "      <td>v Ireland</td>\n",
       "      <td>Dublin (Malahide)</td>\n",
       "      <td>2021-07-19</td>\n",
       "      <td>1</td>\n",
       "      <td>2021</td>\n",
       "    </tr>\n",
       "    <tr>\n",
       "      <th>1163</th>\n",
       "      <td>Pakistan</td>\n",
       "      <td>lost</td>\n",
       "      <td>3 wickets</td>\n",
       "      <td>2.0</td>\n",
       "      <td>won</td>\n",
       "      <td>1st</td>\n",
       "      <td>v England</td>\n",
       "      <td>Manchester</td>\n",
       "      <td>2021-07-20</td>\n",
       "      <td>0</td>\n",
       "      <td>2021</td>\n",
       "    </tr>\n",
       "    <tr>\n",
       "      <th>1164</th>\n",
       "      <td>Zimbabwe</td>\n",
       "      <td>lost</td>\n",
       "      <td>8 wickets</td>\n",
       "      <td>7.0</td>\n",
       "      <td>won</td>\n",
       "      <td>1st</td>\n",
       "      <td>v Bangladesh</td>\n",
       "      <td>Harare</td>\n",
       "      <td>2021-07-22</td>\n",
       "      <td>0</td>\n",
       "      <td>2021</td>\n",
       "    </tr>\n",
       "    <tr>\n",
       "      <th>1165</th>\n",
       "      <td>South Africa</td>\n",
       "      <td>won</td>\n",
       "      <td>42 runs</td>\n",
       "      <td>NaN</td>\n",
       "      <td>won</td>\n",
       "      <td>1st</td>\n",
       "      <td>v Ireland</td>\n",
       "      <td>Belfast</td>\n",
       "      <td>2021-07-22</td>\n",
       "      <td>1</td>\n",
       "      <td>2021</td>\n",
       "    </tr>\n",
       "    <tr>\n",
       "      <th>1166</th>\n",
       "      <td>Zimbabwe</td>\n",
       "      <td>won</td>\n",
       "      <td>23 runs</td>\n",
       "      <td>NaN</td>\n",
       "      <td>won</td>\n",
       "      <td>1st</td>\n",
       "      <td>v Bangladesh</td>\n",
       "      <td>Harare</td>\n",
       "      <td>2021-07-23</td>\n",
       "      <td>1</td>\n",
       "      <td>2021</td>\n",
       "    </tr>\n",
       "  </tbody>\n",
       "</table>\n",
       "<p>1167 rows × 11 columns</p>\n",
       "</div>"
      ],
      "text/plain": [
       "              Team Result     Margin    BR  Toss  Bat      Opposition  \\\n",
       "0        Australia    won    44 runs   NaN   won  1st   v New Zealand   \n",
       "1          England    won   100 runs   NaN   won  1st     v Australia   \n",
       "2     South Africa   lost  5 wickets  12.0  lost  1st   v New Zealand   \n",
       "3        Australia    won    95 runs   NaN   won  1st  v South Africa   \n",
       "4      West Indies   tied          -   NaN  lost  1st   v New Zealand   \n",
       "...            ...    ...        ...   ...   ...  ...             ...   \n",
       "1162  South Africa    won    33 runs   NaN  lost  1st       v Ireland   \n",
       "1163      Pakistan   lost  3 wickets   2.0   won  1st       v England   \n",
       "1164      Zimbabwe   lost  8 wickets   7.0   won  1st    v Bangladesh   \n",
       "1165  South Africa    won    42 runs   NaN   won  1st       v Ireland   \n",
       "1166      Zimbabwe    won    23 runs   NaN   won  1st    v Bangladesh   \n",
       "\n",
       "                 Ground Start Date  Result_Binary  Year  \n",
       "0              Auckland 2005-02-17              1  2005  \n",
       "1           Southampton 2005-06-13              1  2005  \n",
       "2          Johannesburg 2005-10-21              0  2005  \n",
       "3              Brisbane 2006-01-09              1  2006  \n",
       "4              Auckland 2006-02-16              0  2006  \n",
       "...                 ...        ...            ...   ...  \n",
       "1162  Dublin (Malahide) 2021-07-19              1  2021  \n",
       "1163         Manchester 2021-07-20              0  2021  \n",
       "1164             Harare 2021-07-22              0  2021  \n",
       "1165            Belfast 2021-07-22              1  2021  \n",
       "1166             Harare 2021-07-23              1  2021  \n",
       "\n",
       "[1167 rows x 11 columns]"
      ]
     },
     "execution_count": 119,
     "metadata": {},
     "output_type": "execute_result"
    }
   ],
   "source": [
    "df"
   ]
  },
  {
   "cell_type": "code",
   "execution_count": 100,
   "id": "breathing-bobby",
   "metadata": {},
   "outputs": [
    {
     "data": {
      "text/plain": [
       "0    584\n",
       "1    583\n",
       "Name: Result_Binary, dtype: int64"
      ]
     },
     "execution_count": 100,
     "metadata": {},
     "output_type": "execute_result"
    }
   ],
   "source": [
    "df['Result_Binary'].value_counts()"
   ]
  },
  {
   "cell_type": "code",
   "execution_count": 98,
   "id": "binary-inside",
   "metadata": {},
   "outputs": [],
   "source": [
    "df['Result_Binary'] = df['Result'].apply(lambda x: 1 if x=='won' else 0)"
   ]
  },
  {
   "cell_type": "code",
   "execution_count": 111,
   "id": "illegal-balance",
   "metadata": {},
   "outputs": [
    {
     "data": {
      "text/plain": [
       "Team                     object\n",
       "Result                   object\n",
       "Margin                   object\n",
       "BR                      float64\n",
       "Toss                     object\n",
       "Bat                      object\n",
       "Opposition               object\n",
       "Ground                   object\n",
       "Start Date       datetime64[ns]\n",
       "Result_Binary             int64\n",
       "Year             datetime64[ns]\n",
       "dtype: object"
      ]
     },
     "execution_count": 111,
     "metadata": {},
     "output_type": "execute_result"
    }
   ],
   "source": [
    "df.dtypes"
   ]
  },
  {
   "cell_type": "code",
   "execution_count": 113,
   "id": "aquatic-spokesman",
   "metadata": {},
   "outputs": [],
   "source": [
    "df['Year'] = df['Start Date'].dt.year"
   ]
  },
  {
   "cell_type": "code",
   "execution_count": 118,
   "id": "aware-testimony",
   "metadata": {},
   "outputs": [
    {
     "data": {
      "text/html": [
       "<div>\n",
       "<style scoped>\n",
       "    .dataframe tbody tr th:only-of-type {\n",
       "        vertical-align: middle;\n",
       "    }\n",
       "\n",
       "    .dataframe tbody tr th {\n",
       "        vertical-align: top;\n",
       "    }\n",
       "\n",
       "    .dataframe thead th {\n",
       "        text-align: right;\n",
       "    }\n",
       "</style>\n",
       "<table border=\"1\" class=\"dataframe\">\n",
       "  <thead>\n",
       "    <tr style=\"text-align: right;\">\n",
       "      <th></th>\n",
       "      <th>Team</th>\n",
       "      <th>Result</th>\n",
       "      <th>Margin</th>\n",
       "      <th>BR</th>\n",
       "      <th>Toss</th>\n",
       "      <th>Bat</th>\n",
       "      <th>Opposition</th>\n",
       "      <th>Ground</th>\n",
       "      <th>Start Date</th>\n",
       "      <th>Result_Binary</th>\n",
       "      <th>Year</th>\n",
       "    </tr>\n",
       "  </thead>\n",
       "  <tbody>\n",
       "    <tr>\n",
       "      <th>700</th>\n",
       "      <td>New Zealand</td>\n",
       "      <td>won</td>\n",
       "      <td>35 runs</td>\n",
       "      <td>NaN</td>\n",
       "      <td>lost</td>\n",
       "      <td>1st</td>\n",
       "      <td>v Sri Lanka</td>\n",
       "      <td>Auckland</td>\n",
       "      <td>2019-01-11</td>\n",
       "      <td>1</td>\n",
       "      <td>2019</td>\n",
       "    </tr>\n",
       "    <tr>\n",
       "      <th>701</th>\n",
       "      <td>Bahrain</td>\n",
       "      <td>won</td>\n",
       "      <td>41 runs</td>\n",
       "      <td>NaN</td>\n",
       "      <td>lost</td>\n",
       "      <td>1st</td>\n",
       "      <td>v Saudi Arabia</td>\n",
       "      <td>Al Amerat</td>\n",
       "      <td>2019-01-20</td>\n",
       "      <td>1</td>\n",
       "      <td>2019</td>\n",
       "    </tr>\n",
       "    <tr>\n",
       "      <th>702</th>\n",
       "      <td>Maldives</td>\n",
       "      <td>lost</td>\n",
       "      <td>8 wickets</td>\n",
       "      <td>57.0</td>\n",
       "      <td>lost</td>\n",
       "      <td>1st</td>\n",
       "      <td>v Kuwait</td>\n",
       "      <td>Al Amerat</td>\n",
       "      <td>2019-01-20</td>\n",
       "      <td>0</td>\n",
       "      <td>2019</td>\n",
       "    </tr>\n",
       "    <tr>\n",
       "      <th>703</th>\n",
       "      <td>Maldives</td>\n",
       "      <td>lost</td>\n",
       "      <td>2 wickets</td>\n",
       "      <td>8.0</td>\n",
       "      <td>won</td>\n",
       "      <td>1st</td>\n",
       "      <td>v Bahrain</td>\n",
       "      <td>Al Amerat</td>\n",
       "      <td>2019-01-21</td>\n",
       "      <td>0</td>\n",
       "      <td>2019</td>\n",
       "    </tr>\n",
       "    <tr>\n",
       "      <th>704</th>\n",
       "      <td>Saudi Arabia</td>\n",
       "      <td>lost</td>\n",
       "      <td>4 wickets</td>\n",
       "      <td>27.0</td>\n",
       "      <td>lost</td>\n",
       "      <td>1st</td>\n",
       "      <td>v Qatar</td>\n",
       "      <td>Al Amerat</td>\n",
       "      <td>2019-01-21</td>\n",
       "      <td>0</td>\n",
       "      <td>2019</td>\n",
       "    </tr>\n",
       "    <tr>\n",
       "      <th>...</th>\n",
       "      <td>...</td>\n",
       "      <td>...</td>\n",
       "      <td>...</td>\n",
       "      <td>...</td>\n",
       "      <td>...</td>\n",
       "      <td>...</td>\n",
       "      <td>...</td>\n",
       "      <td>...</td>\n",
       "      <td>...</td>\n",
       "      <td>...</td>\n",
       "      <td>...</td>\n",
       "    </tr>\n",
       "    <tr>\n",
       "      <th>994</th>\n",
       "      <td>West Indies</td>\n",
       "      <td>lost</td>\n",
       "      <td>6 wickets</td>\n",
       "      <td>8.0</td>\n",
       "      <td>lost</td>\n",
       "      <td>1st</td>\n",
       "      <td>v India</td>\n",
       "      <td>Hyderabad (Deccan)</td>\n",
       "      <td>2019-12-06</td>\n",
       "      <td>0</td>\n",
       "      <td>2019</td>\n",
       "    </tr>\n",
       "    <tr>\n",
       "      <th>995</th>\n",
       "      <td>Bhutan</td>\n",
       "      <td>lost</td>\n",
       "      <td>8 wickets</td>\n",
       "      <td>29.0</td>\n",
       "      <td>lost</td>\n",
       "      <td>1st</td>\n",
       "      <td>v Maldives</td>\n",
       "      <td>Kirtipur</td>\n",
       "      <td>2019-12-07</td>\n",
       "      <td>0</td>\n",
       "      <td>2019</td>\n",
       "    </tr>\n",
       "    <tr>\n",
       "      <th>996</th>\n",
       "      <td>India</td>\n",
       "      <td>lost</td>\n",
       "      <td>8 wickets</td>\n",
       "      <td>9.0</td>\n",
       "      <td>lost</td>\n",
       "      <td>1st</td>\n",
       "      <td>v West Indies</td>\n",
       "      <td>Thiruvananthapuram</td>\n",
       "      <td>2019-12-08</td>\n",
       "      <td>0</td>\n",
       "      <td>2019</td>\n",
       "    </tr>\n",
       "    <tr>\n",
       "      <th>997</th>\n",
       "      <td>Maldives</td>\n",
       "      <td>lost</td>\n",
       "      <td>5 wickets</td>\n",
       "      <td>23.0</td>\n",
       "      <td>lost</td>\n",
       "      <td>1st</td>\n",
       "      <td>v Nepal</td>\n",
       "      <td>Kirtipur</td>\n",
       "      <td>2019-12-09</td>\n",
       "      <td>0</td>\n",
       "      <td>2019</td>\n",
       "    </tr>\n",
       "    <tr>\n",
       "      <th>998</th>\n",
       "      <td>India</td>\n",
       "      <td>won</td>\n",
       "      <td>67 runs</td>\n",
       "      <td>NaN</td>\n",
       "      <td>lost</td>\n",
       "      <td>1st</td>\n",
       "      <td>v West Indies</td>\n",
       "      <td>Mumbai</td>\n",
       "      <td>2019-12-11</td>\n",
       "      <td>1</td>\n",
       "      <td>2019</td>\n",
       "    </tr>\n",
       "  </tbody>\n",
       "</table>\n",
       "<p>299 rows × 11 columns</p>\n",
       "</div>"
      ],
      "text/plain": [
       "             Team Result     Margin    BR  Toss  Bat      Opposition  \\\n",
       "700   New Zealand    won    35 runs   NaN  lost  1st     v Sri Lanka   \n",
       "701       Bahrain    won    41 runs   NaN  lost  1st  v Saudi Arabia   \n",
       "702      Maldives   lost  8 wickets  57.0  lost  1st        v Kuwait   \n",
       "703      Maldives   lost  2 wickets   8.0   won  1st       v Bahrain   \n",
       "704  Saudi Arabia   lost  4 wickets  27.0  lost  1st         v Qatar   \n",
       "..            ...    ...        ...   ...   ...  ...             ...   \n",
       "994   West Indies   lost  6 wickets   8.0  lost  1st         v India   \n",
       "995        Bhutan   lost  8 wickets  29.0  lost  1st      v Maldives   \n",
       "996         India   lost  8 wickets   9.0  lost  1st   v West Indies   \n",
       "997      Maldives   lost  5 wickets  23.0  lost  1st         v Nepal   \n",
       "998         India    won    67 runs   NaN  lost  1st   v West Indies   \n",
       "\n",
       "                 Ground Start Date  Result_Binary  Year  \n",
       "700            Auckland 2019-01-11              1  2019  \n",
       "701           Al Amerat 2019-01-20              1  2019  \n",
       "702           Al Amerat 2019-01-20              0  2019  \n",
       "703           Al Amerat 2019-01-21              0  2019  \n",
       "704           Al Amerat 2019-01-21              0  2019  \n",
       "..                  ...        ...            ...   ...  \n",
       "994  Hyderabad (Deccan) 2019-12-06              0  2019  \n",
       "995            Kirtipur 2019-12-07              0  2019  \n",
       "996  Thiruvananthapuram 2019-12-08              0  2019  \n",
       "997            Kirtipur 2019-12-09              0  2019  \n",
       "998              Mumbai 2019-12-11              1  2019  \n",
       "\n",
       "[299 rows x 11 columns]"
      ]
     },
     "execution_count": 118,
     "metadata": {},
     "output_type": "execute_result"
    }
   ],
   "source": [
    "df[df['Year']==2019]"
   ]
  },
  {
   "cell_type": "code",
   "execution_count": 117,
   "id": "expressed-triangle",
   "metadata": {},
   "outputs": [
    {
     "data": {
      "text/plain": [
       "Year\n",
       "2005      3\n",
       "2006      9\n",
       "2007     37\n",
       "2008     28\n",
       "2009     47\n",
       "2010     67\n",
       "2011     21\n",
       "2012     79\n",
       "2013     52\n",
       "2014     60\n",
       "2015     59\n",
       "2016     97\n",
       "2017     63\n",
       "2018     78\n",
       "2019    299\n",
       "2020     90\n",
       "2021     78\n",
       "Name: Team, dtype: int64"
      ]
     },
     "execution_count": 117,
     "metadata": {},
     "output_type": "execute_result"
    }
   ],
   "source": [
    "df.groupby('Year')['Team'].count()"
   ]
  },
  {
   "cell_type": "code",
   "execution_count": null,
   "id": "vital-outdoors",
   "metadata": {},
   "outputs": [],
   "source": []
  },
  {
   "cell_type": "code",
   "execution_count": null,
   "id": "understood-throat",
   "metadata": {},
   "outputs": [],
   "source": []
  },
  {
   "cell_type": "code",
   "execution_count": null,
   "id": "recorded-coordinator",
   "metadata": {},
   "outputs": [],
   "source": []
  },
  {
   "cell_type": "code",
   "execution_count": null,
   "id": "soviet-fellowship",
   "metadata": {},
   "outputs": [],
   "source": []
  },
  {
   "cell_type": "code",
   "execution_count": null,
   "id": "ruled-salvation",
   "metadata": {},
   "outputs": [],
   "source": []
  },
  {
   "cell_type": "code",
   "execution_count": null,
   "id": "quiet-design",
   "metadata": {},
   "outputs": [],
   "source": []
  },
  {
   "cell_type": "code",
   "execution_count": null,
   "id": "sought-worship",
   "metadata": {},
   "outputs": [],
   "source": []
  },
  {
   "cell_type": "code",
   "execution_count": null,
   "id": "systematic-possession",
   "metadata": {},
   "outputs": [],
   "source": []
  },
  {
   "cell_type": "code",
   "execution_count": null,
   "id": "honey-marks",
   "metadata": {},
   "outputs": [],
   "source": []
  },
  {
   "cell_type": "code",
   "execution_count": null,
   "id": "funny-sacramento",
   "metadata": {},
   "outputs": [],
   "source": []
  },
  {
   "cell_type": "code",
   "execution_count": 58,
   "id": "seeing-retro",
   "metadata": {},
   "outputs": [],
   "source": [
    "all_t20is_ever_refined = all_t20is_ever.iloc[::2]"
   ]
  },
  {
   "cell_type": "code",
   "execution_count": 59,
   "id": "growing-struggle",
   "metadata": {},
   "outputs": [
    {
     "data": {
      "text/html": [
       "<div>\n",
       "<style scoped>\n",
       "    .dataframe tbody tr th:only-of-type {\n",
       "        vertical-align: middle;\n",
       "    }\n",
       "\n",
       "    .dataframe tbody tr th {\n",
       "        vertical-align: top;\n",
       "    }\n",
       "\n",
       "    .dataframe thead th {\n",
       "        text-align: right;\n",
       "    }\n",
       "</style>\n",
       "<table border=\"1\" class=\"dataframe\">\n",
       "  <thead>\n",
       "    <tr style=\"text-align: right;\">\n",
       "      <th></th>\n",
       "      <th>Team</th>\n",
       "      <th>Result</th>\n",
       "      <th>Margin</th>\n",
       "      <th>BR</th>\n",
       "      <th>Toss</th>\n",
       "      <th>Bat</th>\n",
       "      <th>Opposition</th>\n",
       "      <th>Ground</th>\n",
       "      <th>Start Date</th>\n",
       "    </tr>\n",
       "  </thead>\n",
       "  <tbody>\n",
       "    <tr>\n",
       "      <th>0</th>\n",
       "      <td>Australia</td>\n",
       "      <td>won</td>\n",
       "      <td>44 runs</td>\n",
       "      <td>NaN</td>\n",
       "      <td>won</td>\n",
       "      <td>1st</td>\n",
       "      <td>v New Zealand</td>\n",
       "      <td>Auckland</td>\n",
       "      <td>17 Feb 2005</td>\n",
       "    </tr>\n",
       "    <tr>\n",
       "      <th>2</th>\n",
       "      <td>England</td>\n",
       "      <td>won</td>\n",
       "      <td>100 runs</td>\n",
       "      <td>NaN</td>\n",
       "      <td>won</td>\n",
       "      <td>1st</td>\n",
       "      <td>v Australia</td>\n",
       "      <td>Southampton</td>\n",
       "      <td>13 Jun 2005</td>\n",
       "    </tr>\n",
       "    <tr>\n",
       "      <th>4</th>\n",
       "      <td>New Zealand</td>\n",
       "      <td>won</td>\n",
       "      <td>5 wickets</td>\n",
       "      <td>12.0</td>\n",
       "      <td>won</td>\n",
       "      <td>2nd</td>\n",
       "      <td>v South Africa</td>\n",
       "      <td>Johannesburg</td>\n",
       "      <td>21 Oct 2005</td>\n",
       "    </tr>\n",
       "    <tr>\n",
       "      <th>6</th>\n",
       "      <td>Australia</td>\n",
       "      <td>won</td>\n",
       "      <td>95 runs</td>\n",
       "      <td>NaN</td>\n",
       "      <td>won</td>\n",
       "      <td>1st</td>\n",
       "      <td>v South Africa</td>\n",
       "      <td>Brisbane</td>\n",
       "      <td>9 Jan 2006</td>\n",
       "    </tr>\n",
       "    <tr>\n",
       "      <th>8</th>\n",
       "      <td>New Zealand</td>\n",
       "      <td>tied</td>\n",
       "      <td>-</td>\n",
       "      <td>NaN</td>\n",
       "      <td>won</td>\n",
       "      <td>2nd</td>\n",
       "      <td>v West Indies</td>\n",
       "      <td>Auckland</td>\n",
       "      <td>16 Feb 2006</td>\n",
       "    </tr>\n",
       "  </tbody>\n",
       "</table>\n",
       "</div>"
      ],
      "text/plain": [
       "          Team Result     Margin    BR Toss  Bat      Opposition  \\\n",
       "0    Australia    won    44 runs   NaN  won  1st   v New Zealand   \n",
       "2      England    won   100 runs   NaN  won  1st     v Australia   \n",
       "4  New Zealand    won  5 wickets  12.0  won  2nd  v South Africa   \n",
       "6    Australia    won    95 runs   NaN  won  1st  v South Africa   \n",
       "8  New Zealand   tied          -   NaN  won  2nd   v West Indies   \n",
       "\n",
       "         Ground   Start Date  \n",
       "0      Auckland  17 Feb 2005  \n",
       "2   Southampton  13 Jun 2005  \n",
       "4  Johannesburg  21 Oct 2005  \n",
       "6      Brisbane   9 Jan 2006  \n",
       "8      Auckland  16 Feb 2006  "
      ]
     },
     "execution_count": 59,
     "metadata": {},
     "output_type": "execute_result"
    }
   ],
   "source": [
    "all_t20is_ever_refined.head()"
   ]
  },
  {
   "cell_type": "code",
   "execution_count": 70,
   "id": "colonial-puppy",
   "metadata": {},
   "outputs": [
    {
     "data": {
      "text/plain": [
       "won     1147\n",
       "aban      33\n",
       "n/r       31\n",
       "canc      23\n",
       "tied      20\n",
       "Name: Result, dtype: int64"
      ]
     },
     "execution_count": 70,
     "metadata": {},
     "output_type": "execute_result"
    }
   ],
   "source": [
    "all_t20is_ever_refined.Result.value_counts()"
   ]
  },
  {
   "cell_type": "code",
   "execution_count": 32,
   "id": "organizational-athletics",
   "metadata": {},
   "outputs": [],
   "source": [
    "all_t20is_ever = all_t20is_ever[(all_t20is_ever['Result']!='aban') & (all_t20is_ever['Result']!='canc') & ()]"
   ]
  },
  {
   "cell_type": "code",
   "execution_count": 57,
   "id": "matched-ratio",
   "metadata": {},
   "outputs": [
    {
     "data": {
      "text/plain": [
       "2508"
      ]
     },
     "execution_count": 57,
     "metadata": {},
     "output_type": "execute_result"
    }
   ],
   "source": [
    "len(all_t20is_ever)"
   ]
  },
  {
   "cell_type": "code",
   "execution_count": 35,
   "id": "classified-reducing",
   "metadata": {},
   "outputs": [],
   "source": [
    "all_t20is_ever.to_csv(\"CSV Files/All T20Is Ever Refined.csv\")"
   ]
  },
  {
   "cell_type": "code",
   "execution_count": 60,
   "id": "herbal-response",
   "metadata": {},
   "outputs": [
    {
     "data": {
      "text/plain": [
       "(1254, 9)"
      ]
     },
     "execution_count": 60,
     "metadata": {},
     "output_type": "execute_result"
    }
   ],
   "source": [
    "all_t20is_ever_refined.shape"
   ]
  },
  {
   "cell_type": "code",
   "execution_count": 69,
   "id": "about-holly",
   "metadata": {},
   "outputs": [
    {
     "data": {
      "text/html": [
       "<div>\n",
       "<style scoped>\n",
       "    .dataframe tbody tr th:only-of-type {\n",
       "        vertical-align: middle;\n",
       "    }\n",
       "\n",
       "    .dataframe tbody tr th {\n",
       "        vertical-align: top;\n",
       "    }\n",
       "\n",
       "    .dataframe thead th {\n",
       "        text-align: right;\n",
       "    }\n",
       "</style>\n",
       "<table border=\"1\" class=\"dataframe\">\n",
       "  <thead>\n",
       "    <tr style=\"text-align: right;\">\n",
       "      <th></th>\n",
       "      <th>Result</th>\n",
       "      <th>Bat</th>\n",
       "    </tr>\n",
       "  </thead>\n",
       "  <tbody>\n",
       "    <tr>\n",
       "      <th>136</th>\n",
       "      <td>aban</td>\n",
       "      <td>-</td>\n",
       "    </tr>\n",
       "    <tr>\n",
       "      <th>2232</th>\n",
       "      <td>canc</td>\n",
       "      <td>-</td>\n",
       "    </tr>\n",
       "    <tr>\n",
       "      <th>50</th>\n",
       "      <td>n/r</td>\n",
       "      <td>1st</td>\n",
       "    </tr>\n",
       "    <tr>\n",
       "      <th>134</th>\n",
       "      <td>n/r</td>\n",
       "      <td>2nd</td>\n",
       "    </tr>\n",
       "    <tr>\n",
       "      <th>858</th>\n",
       "      <td>n/r</td>\n",
       "      <td>-</td>\n",
       "    </tr>\n",
       "    <tr>\n",
       "      <th>8</th>\n",
       "      <td>tied</td>\n",
       "      <td>2nd</td>\n",
       "    </tr>\n",
       "    <tr>\n",
       "      <th>56</th>\n",
       "      <td>tied</td>\n",
       "      <td>1st</td>\n",
       "    </tr>\n",
       "    <tr>\n",
       "      <th>0</th>\n",
       "      <td>won</td>\n",
       "      <td>1st</td>\n",
       "    </tr>\n",
       "    <tr>\n",
       "      <th>4</th>\n",
       "      <td>won</td>\n",
       "      <td>2nd</td>\n",
       "    </tr>\n",
       "  </tbody>\n",
       "</table>\n",
       "</div>"
      ],
      "text/plain": [
       "     Result  Bat\n",
       "136    aban    -\n",
       "2232   canc    -\n",
       "50      n/r  1st\n",
       "134     n/r  2nd\n",
       "858     n/r    -\n",
       "8      tied  2nd\n",
       "56     tied  1st\n",
       "0       won  1st\n",
       "4       won  2nd"
      ]
     },
     "execution_count": 69,
     "metadata": {},
     "output_type": "execute_result"
    }
   ],
   "source": [
    "all_t20is_ever_refined[['Result', 'Bat']].drop_duplicates().sort_values('Result')"
   ]
  },
  {
   "cell_type": "code",
   "execution_count": null,
   "id": "arabic-winter",
   "metadata": {},
   "outputs": [],
   "source": []
  }
 ],
 "metadata": {
  "kernelspec": {
   "display_name": "Python 3",
   "language": "python",
   "name": "python3"
  },
  "language_info": {
   "codemirror_mode": {
    "name": "ipython",
    "version": 3
   },
   "file_extension": ".py",
   "mimetype": "text/x-python",
   "name": "python",
   "nbconvert_exporter": "python",
   "pygments_lexer": "ipython3",
   "version": "3.8.8"
  }
 },
 "nbformat": 4,
 "nbformat_minor": 5
}
